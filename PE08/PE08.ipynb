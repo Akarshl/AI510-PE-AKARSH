{
 "cells": [
  {
   "cell_type": "code",
   "execution_count": null,
   "id": "393f1577",
   "metadata": {},
   "outputs": [
    {
     "name": "stdout",
     "output_type": "stream",
     "text": [
      "Reconstructed data from RBM:\n",
      "[[1. 0. 0. 1. 1. 1.]\n",
      " [1. 0. 0. 1. 1. 1.]\n",
      " [0. 1. 1. 0. 1. 0.]\n",
      " [1. 1. 0. 1. 1. 0.]\n",
      " [0. 0. 1. 0. 1. 1.]\n",
      " [0. 0. 1. 0. 1. 1.]]\n"
     ]
    }
   ],
   "source": [
    "import numpy as np\n",
    "\n",
    "class RBM:\n",
    "    def __init__(self, n_visible, n_hidden, learning_rate=0.1):\n",
    "        self.n_visible = n_visible\n",
    "        self.n_hidden = n_hidden\n",
    "        self.learning_rate = learning_rate\n",
    "\n",
    "        # Initialize weights and biases\n",
    "        self.weights = np.random.normal(0, 0.01, (n_visible, n_hidden))\n",
    "        self.visible_bias = np.zeros(n_visible)\n",
    "        self.hidden_bias = np.zeros(n_hidden)\n",
    "\n",
    "    def sigmoid(self, x):\n",
    "        return 1.0 / (1 + np.exp(-x))\n",
    "\n",
    "    def sample_prob(self, probs):\n",
    "        return (probs > np.random.random(probs.shape)).astype(float)\n",
    "\n",
    "    def train(self, data, epochs=5000):\n",
    "        for epoch in range(epochs):\n",
    "            # Positive phase\n",
    "            pos_hidden_probs = self.sigmoid(np.dot(data, self.weights) + self.hidden_bias)\n",
    "            pos_hidden_states = self.sample_prob(pos_hidden_probs)\n",
    "            pos_associations = np.dot(data.T, pos_hidden_probs)\n",
    "\n",
    "            # Negative phase (reconstruction)\n",
    "            neg_visible_probs = self.sigmoid(np.dot(pos_hidden_states, self.weights.T) + self.visible_bias)\n",
    "            neg_hidden_probs = self.sigmoid(np.dot(neg_visible_probs, self.weights) + self.hidden_bias)\n",
    "\n",
    "            neg_associations = np.dot(neg_visible_probs.T, neg_hidden_probs)\n",
    "\n",
    "            # Update weights and biases\n",
    "            self.weights += self.learning_rate * ((pos_associations - neg_associations) / data.shape[0])\n",
    "            self.visible_bias += self.learning_rate * np.mean(data - neg_visible_probs, axis=0)\n",
    "            self.hidden_bias += self.learning_rate * np.mean(pos_hidden_probs - neg_hidden_probs, axis=0)\n",
    "\n",
    "        # Return reconstruction from the last epoch\n",
    "        return neg_visible_probs\n",
    "\n",
    "data = np.array([\n",
    "    [1, 1, 0, 1, 0, 1],\n",
    "    [1, 0, 0, 1, 1, 1],\n",
    "    [0, 1, 1, 0, 1, 0],\n",
    "    [1, 1, 0, 1, 1, 0],\n",
    "    [0, 0, 1, 1, 0, 1],\n",
    "    [1, 0, 1, 0, 1, 1]\n",
    "])\n",
    "\n",
    "# Create RBM model\n",
    "rbm = RBM(n_visible=6, n_hidden=2, learning_rate=0.1)\n",
    "\n",
    "# Train RBM and get reconstructed data\n",
    "reconstructed_data = rbm.train(data, epochs=5000)\n",
    "\n",
    "# Print reconstructed data (rounded to 0s and 1s)\n",
    "print(\"Reconstructed data from RBM:\")\n",
    "print(np.round(reconstructed_data))\n"
   ]
  }
 ],
 "metadata": {
  "kernelspec": {
   "display_name": "Python 3",
   "language": "python",
   "name": "python3"
  },
  "language_info": {
   "codemirror_mode": {
    "name": "ipython",
    "version": 3
   },
   "file_extension": ".py",
   "mimetype": "text/x-python",
   "name": "python",
   "nbconvert_exporter": "python",
   "pygments_lexer": "ipython3",
   "version": "3.12.1"
  }
 },
 "nbformat": 4,
 "nbformat_minor": 5
}
