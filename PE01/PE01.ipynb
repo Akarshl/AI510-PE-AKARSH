{
 "cells": [
  {
   "cell_type": "code",
   "execution_count": 11,
   "id": "1ed8d87b",
   "metadata": {},
   "outputs": [],
   "source": [
    "import numpy as ql\n",
    "R = ql.matrix([[0,0,0,0,1,0],\n",
    "                [0,0,0,1,0,1],\n",
    "                [0,0,100,1,0,0],\n",
    "                [0,1,1,0,1,0],\n",
    "                [1,0,0,1,0,0],\n",
    "                [0,1,0,0,0,0] ])\n",
    "\n",
    "Q = ql.matrix(ql.zeros((6,6)))\n",
    "gamma = 0.8"
   ]
  },
  {
   "cell_type": "code",
   "execution_count": 12,
   "id": "8b2a8c2e",
   "metadata": {},
   "outputs": [],
   "source": [
    "agent_s_state = 1\n",
    "# The possible \"a\" actions when the agent is in a given state\n",
    "def possible_actions(state):\n",
    "    current_state_row = R[state,]\n",
    "    possible_act = ql.where(current_state_row >0)[1]\n",
    "    return possible_act\n",
    "# Get available actions in the current state\n",
    "PossibleAction = possible_actions(agent_s_state)"
   ]
  },
  {
   "cell_type": "code",
   "execution_count": 13,
   "id": "32679899",
   "metadata": {},
   "outputs": [
    {
     "name": "stderr",
     "output_type": "stream",
     "text": [
      "/tmp/ipykernel_14701/32915911.py:3: DeprecationWarning: Conversion of an array with ndim > 0 to a scalar is deprecated, and will error in future. Ensure you extract a single element from your array before performing this operation. (Deprecated NumPy 1.25.)\n",
      "  next_action = int(ql.random.choice(PossibleAction,1))\n"
     ]
    }
   ],
   "source": [
    "def ActionChoice(available_actions_range):\n",
    "    if(sum(PossibleAction)>0):\n",
    "        next_action = int(ql.random.choice(PossibleAction,1))\n",
    "    if(sum(PossibleAction)<=0):\n",
    "        next_action = int(ql.random.choice(5,1))\n",
    "    return next_action\n",
    "# Sample next action to be performed\n",
    "action = ActionChoice(PossibleAction)"
   ]
  },
  {
   "cell_type": "code",
   "execution_count": 14,
   "id": "7be55fa9",
   "metadata": {},
   "outputs": [
    {
     "name": "stderr",
     "output_type": "stream",
     "text": [
      "/tmp/ipykernel_14701/2198737667.py:4: DeprecationWarning: Conversion of an array with ndim > 0 to a scalar is deprecated, and will error in future. Ensure you extract a single element from your array before performing this operation. (Deprecated NumPy 1.25.)\n",
      "  Max_State = int(ql.random.choice(Max_State, size = 1))\n"
     ]
    }
   ],
   "source": [
    "def reward(current_state, action, gamma):\n",
    "    Max_State = ql.where(Q[action,] == ql.max(Q[action,]))[1]\n",
    "    if Max_State.shape[0] > 1:\n",
    "        Max_State = int(ql.random.choice(Max_State, size = 1))\n",
    "    else:\n",
    "        Max_State = int(Max_State)\n",
    "    MaxValue = Q[action, Max_State]\n",
    "\n",
    "    # Q function\n",
    "    Q[current_state, action] = R[current_state, action] + gamma * MaxValue\n",
    "# Rewarding Q matrix\n",
    "reward(agent_s_state,action,gamma)"
   ]
  },
  {
   "cell_type": "code",
   "execution_count": 15,
   "id": "64977df2",
   "metadata": {},
   "outputs": [
    {
     "name": "stderr",
     "output_type": "stream",
     "text": [
      "/tmp/ipykernel_14701/32915911.py:3: DeprecationWarning: Conversion of an array with ndim > 0 to a scalar is deprecated, and will error in future. Ensure you extract a single element from your array before performing this operation. (Deprecated NumPy 1.25.)\n",
      "  next_action = int(ql.random.choice(PossibleAction,1))\n",
      "/tmp/ipykernel_14701/2198737667.py:4: DeprecationWarning: Conversion of an array with ndim > 0 to a scalar is deprecated, and will error in future. Ensure you extract a single element from your array before performing this operation. (Deprecated NumPy 1.25.)\n",
      "  Max_State = int(ql.random.choice(Max_State, size = 1))\n",
      "/tmp/ipykernel_14701/2198737667.py:6: DeprecationWarning: Conversion of an array with ndim > 0 to a scalar is deprecated, and will error in future. Ensure you extract a single element from your array before performing this operation. (Deprecated NumPy 1.25.)\n",
      "  Max_State = int(Max_State)\n"
     ]
    },
    {
     "name": "stdout",
     "output_type": "stream",
     "text": [
      "Q :\n",
      "[[  0.     0.     0.     0.     0.     0.  ]\n",
      " [  0.     0.     0.   321.8    0.     1.  ]\n",
      " [  0.     0.   500.   321.8    0.     0.  ]\n",
      " [  0.   258.44 401.     0.   258.44   0.  ]\n",
      " [  1.     0.     0.   321.8    0.     0.  ]\n",
      " [  0.     0.     0.     0.     0.     0.  ]]\n",
      "Normed Q :\n",
      "[[  0.      0.      0.      0.      0.      0.   ]\n",
      " [  0.      0.      0.     64.36    0.      0.2  ]\n",
      " [  0.      0.    100.     64.36    0.      0.   ]\n",
      " [  0.     51.688  80.2     0.     51.688   0.   ]\n",
      " [  0.2     0.      0.     64.36    0.      0.   ]\n",
      " [  0.      0.      0.      0.      0.      0.   ]]\n"
     ]
    }
   ],
   "source": [
    "for i in range(50000):\n",
    "    current_state = ql.random.randint(0, int(Q.shape[0]))\n",
    "    PossibleAction = possible_actions(current_state)\n",
    "\n",
    "    # Only train if there are at least two possible actions\n",
    "    if len(PossibleAction) < 2:\n",
    "        continue\n",
    "\n",
    "    action = ActionChoice(PossibleAction)\n",
    "    reward(current_state,action,gamma)\n",
    "\n",
    "# Displaying Q before the norm of Q phase\n",
    "print(\"Q :\")\n",
    "print(Q)\n",
    "# Norm of Q\n",
    "print(\"Normed Q :\")\n",
    "print(Q/ql.max(Q)*100)"
   ]
  }
 ],
 "metadata": {
  "kernelspec": {
   "display_name": "Python 3",
   "language": "python",
   "name": "python3"
  },
  "language_info": {
   "codemirror_mode": {
    "name": "ipython",
    "version": 3
   },
   "file_extension": ".py",
   "mimetype": "text/x-python",
   "name": "python",
   "nbconvert_exporter": "python",
   "pygments_lexer": "ipython3",
   "version": "3.12.1"
  }
 },
 "nbformat": 4,
 "nbformat_minor": 5
}
