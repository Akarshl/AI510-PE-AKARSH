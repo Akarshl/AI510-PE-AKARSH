{
 "cells": [
  {
   "cell_type": "code",
   "execution_count": 1,
   "id": "9835c188",
   "metadata": {},
   "outputs": [],
   "source": [
    "import numpy as np\n",
    "import pandas as pd\n",
    "from sklearn.naive_bayes import GaussianNB\n",
    "from sklearn.model_selection import train_test_split\n",
    "from sklearn.metrics import accuracy_score\n"
   ]
  },
  {
   "cell_type": "code",
   "execution_count": 2,
   "id": "647411a5",
   "metadata": {},
   "outputs": [
    {
     "name": "stdout",
     "output_type": "stream",
     "text": [
      "Blocks of the Blockchain\n",
      "   DAY  STOCK  BLOCKS  DEMAND\n",
      "0   10   1455      78       1\n",
      "1   11   1666      67       1\n",
      "2   12   1254      57       1\n",
      "3   14   1563      45       1\n",
      "4   15   1674      89       1\n"
     ]
    }
   ],
   "source": [
    "# Load data\n",
    "df = pd.read_csv('data_BC.csv')\n",
    "print(\"Blocks of the Blockchain\")\n",
    "print(df.head())\n"
   ]
  },
  {
   "cell_type": "code",
   "execution_count": 3,
   "id": "887616e3",
   "metadata": {},
   "outputs": [],
   "source": [
    "# Define features and label\n",
    "features = ['DAY', 'STOCK', 'BLOCKS']\n",
    "label = 'DEMAND'"
   ]
  },
  {
   "cell_type": "code",
   "execution_count": 4,
   "id": "9b79c462",
   "metadata": {},
   "outputs": [],
   "source": [
    "# Function to evaluate model\n",
    "def evaluate_model(features_subset):\n",
    "    X = df[features_subset]\n",
    "    y = df[label]\n",
    "    X_train, X_test, y_train, y_test = train_test_split(X, y, test_size=0.3, random_state=42)\n",
    "    model = GaussianNB()\n",
    "    model.fit(X_train, y_train)\n",
    "    y_pred = model.predict(X_test)\n",
    "    return accuracy_score(y_test, y_pred)"
   ]
  },
  {
   "cell_type": "code",
   "execution_count": 5,
   "id": "a46484ad",
   "metadata": {},
   "outputs": [
    {
     "name": "stdout",
     "output_type": "stream",
     "text": [
      "Model with all features: 0.97\n",
      "Model without 'DAY': 1.0\n",
      "Model without 'STOCK': 0.9\n",
      "Model without 'BLOCKS': 0.9\n"
     ]
    }
   ],
   "source": [
    "# Evaluate with all features\n",
    "acc_all = evaluate_model(['DAY', 'STOCK', 'BLOCKS'])\n",
    "print(f\"Model with all features: {round(acc_all, 2)}\")\n",
    "\n",
    "# Evaluate without each feature\n",
    "acc_no_day = evaluate_model(['STOCK', 'BLOCKS'])\n",
    "print(f\"Model without 'DAY': {round(acc_no_day, 2)}\")\n",
    "\n",
    "acc_no_stock = evaluate_model(['DAY', 'BLOCKS'])\n",
    "print(f\"Model without 'STOCK': {round(acc_no_stock, 2)}\")\n",
    "\n",
    "acc_no_blocks = evaluate_model(['DAY', 'STOCK'])\n",
    "print(f\"Model without 'BLOCKS': {round(acc_no_blocks, 2)}\")"
   ]
  }
 ],
 "metadata": {
  "kernelspec": {
   "display_name": "Python 3",
   "language": "python",
   "name": "python3"
  },
  "language_info": {
   "codemirror_mode": {
    "name": "ipython",
    "version": 3
   },
   "file_extension": ".py",
   "mimetype": "text/x-python",
   "name": "python",
   "nbconvert_exporter": "python",
   "pygments_lexer": "ipython3",
   "version": "3.12.1"
  }
 },
 "nbformat": 4,
 "nbformat_minor": 5
}
