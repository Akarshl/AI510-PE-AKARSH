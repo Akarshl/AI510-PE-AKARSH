{
 "cells": [
  {
   "cell_type": "code",
   "execution_count": 10,
   "id": "0c7054e7",
   "metadata": {},
   "outputs": [
    {
     "name": "stdout",
     "output_type": "stream",
     "text": [
      "0.Vector to be normalized [0.0002, 0.2, 0.9, 0.0001, 0.4, 0.6]\n"
     ]
    }
   ],
   "source": [
    "import math\n",
    "import numpy as np\n",
    "\n",
    "# y is the vector of the scores of the lv vector in the warehouse example.\n",
    "y = [0.0002, 0.2, 0.9, 0.0001, 0.4, 0.6]\n",
    "print('0.Vector to be normalized',y)"
   ]
  },
  {
   "cell_type": "code",
   "execution_count": 11,
   "id": "e6a03530",
   "metadata": {},
   "outputs": [
    {
     "name": "stdout",
     "output_type": "stream",
     "text": [
      "1 [1.0002000200013335, 1.2214027581601699, 2.45960311115695, 1.0001000050001667, 1.4918246976412703, 1.8221188003905089]\n",
      "2 [1.0, 1.22, 2.46, 1.0, 1.49, 1.82]\n",
      "3 9.0\n",
      "4 [1, 1, 2, 1, 1, 2]\n",
      "5 [0.111, 0.136, 0.273, 0.111, 0.166, 0.203]\n"
     ]
    }
   ],
   "source": [
    "#Version 1 : Explicitly writing the softmax function for this case\n",
    "y_exp = [math.exp(i) for i in y]\n",
    "print(\"1\", [i for i in y_exp])\n",
    "print(\"2\", [round(i, 2) for i in y_exp])\n",
    "sum_exp_yi = sum(y_exp)\n",
    "print(\"3\", round(sum_exp_yi, 2))\n",
    "print(\"4\", [round(i) for i in y_exp])\n",
    "softmax = [round(i / sum_exp_yi, 3) for i in y_exp]\n",
    "print(\"5\",softmax)"
   ]
  },
  {
   "cell_type": "code",
   "execution_count": 12,
   "id": "e7d72684",
   "metadata": {},
   "outputs": [
    {
     "name": "stdout",
     "output_type": "stream",
     "text": [
      "6, Normalized vector [0.111, 0.136, 0.273, 0.111, 0.166, 0.203]\n"
     ]
    }
   ],
   "source": [
    "#Version 2 : Explicitly but with no comments\n",
    "y_exp = [math.exp(i) for i in y]\n",
    "sum_exp_yi = sum(y_exp)\n",
    "softmax = [round(i / sum_exp_yi, 3) for i in y_exp]\n",
    "print(\"6, Normalized vector\",softmax)"
   ]
  },
  {
   "cell_type": "code",
   "execution_count": 13,
   "id": "f9aeda4c",
   "metadata": {},
   "outputs": [
    {
     "name": "stdout",
     "output_type": "stream",
     "text": [
      "Normalized softmax: [0.111, 0.136, 0.273, 0.111, 0.166, 0.203]\n",
      "Sum of softmax: 1.0\n",
      "Softmax is valid: True\n",
      "Highest value in the normalized vector: 0.273\n",
      "One-hot vector based on highest softmax value:\n",
      "This is a vector that is an output of a one-hot function on a softmax vector:\n",
      "[0, 0, 1, 0, 0, 0]\n"
     ]
    }
   ],
   "source": [
    "# version 3\n",
    "# Function to calculate softmax\n",
    "def softmax(x):\n",
    "    x = np.array(x)\n",
    "    return np.exp(x) / np.sum(np.exp(x), axis=0)\n",
    "\n",
    "# Function to validate softmax output\n",
    "def is_softmax_valid(output):\n",
    "    within_range = all(0 <= i <= 1 for i in output)\n",
    "    approx_sum = abs(sum(output) - 1.0) <= 0.01\n",
    "    return within_range and approx_sum\n",
    "\n",
    "# Input vector\n",
    "y = [0.0002, 0.2, 0.9, 0.0001, 0.4, 0.6]\n",
    "\n",
    "# Compute softmax\n",
    "softmax_result = [round(float(val), 3) for val in softmax(y)]\n",
    "rounded_softmax = [round(val, 3) for val in softmax_result]\n",
    "\n",
    "# Print softmax results\n",
    "print(\"Normalized softmax:\", rounded_softmax)\n",
    "print(\"Sum of softmax:\", round(sum(softmax_result), 3))\n",
    "print(\"Softmax is valid:\", is_softmax_valid(softmax_result))\n",
    "\n",
    "# One-hot encoding based on softmax\n",
    "ohot = max(softmax_result)\n",
    "ohotv = list(softmax_result)  # Create a mutable list copy\n",
    "\n",
    "print(\"Highest value in the normalized vector:\", round(ohot, 3))\n",
    "print(\"One-hot vector based on highest softmax value:\")\n",
    "\n",
    "for i in range(len(ohotv)):\n",
    "    ohotv[i] = 1 if ohotv[i] == ohot else 0\n",
    "\n",
    "print(\"This is a vector that is an output of a one-hot function on a softmax vector:\")\n",
    "print(ohotv)"
   ]
  }
 ],
 "metadata": {
  "kernelspec": {
   "display_name": "Python 3",
   "language": "python",
   "name": "python3"
  },
  "language_info": {
   "codemirror_mode": {
    "name": "ipython",
    "version": 3
   },
   "file_extension": ".py",
   "mimetype": "text/x-python",
   "name": "python",
   "nbconvert_exporter": "python",
   "pygments_lexer": "ipython3",
   "version": "3.12.1"
  }
 },
 "nbformat": 4,
 "nbformat_minor": 5
}
